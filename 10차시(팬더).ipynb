{
  "nbformat": 4,
  "nbformat_minor": 0,
  "metadata": {
    "colab": {
      "private_outputs": true,
      "provenance": [],
      "authorship_tag": "ABX9TyM5llaeRYnyyXt9s5e0UUtR",
      "include_colab_link": true
    },
    "kernelspec": {
      "name": "python3",
      "display_name": "Python 3"
    },
    "language_info": {
      "name": "python"
    }
  },
  "cells": [
    {
      "cell_type": "markdown",
      "metadata": {
        "id": "view-in-github",
        "colab_type": "text"
      },
      "source": [
        "<a href=\"https://colab.research.google.com/github/kjhcode/2024-test/blob/main/10%EC%B0%A8%EC%8B%9C(%ED%8C%AC%EB%8D%94).ipynb\" target=\"_parent\"><img src=\"https://colab.research.google.com/assets/colab-badge.svg\" alt=\"Open In Colab\"/></a>"
      ]
    },
    {
      "cell_type": "markdown",
      "source": [
        "요즘 공공 자전거 대여소를 운영하는 지역이 많아지고 있기 때문에 자신의 자전거를 가지고 다니지 않아도 쉽게 자전거를 빌려 탈 수 있다. 공공 자전거가 편리하다고 입소문이 나기 시작하면서 잔저거 수가 부족해지는 현상도 나타나고 있다. 우리 지역의 자전거 사용량을 예측해보는 프로그램을 작성해 보자."
      ],
      "metadata": {
        "id": "au1PAxk_gWCX"
      }
    },
    {
      "cell_type": "markdown",
      "source": [
        "[1.문제정의:주어진 문제 상황을 바탕으로 문제를 정의한다.]    \n",
        "* 자전거 사용량을 예측하는 회귀 모델을 생성하여 문제 해결하기.   \n",
        "\n",
        "[2.데이터 수집: 모델할습에 필요한 데이터를 수집한다.]     \n",
        "* 캐글 사이트 - Bike Sharing Demand 데이터를 재구성.\n",
        "  \n",
        "[3.데이터 분석 및 전처리:수집한 데이터의 속성을 분석하고 전처리한다.]   \n",
        "* 데이터 업로드하고\n",
        "* 데이터 읽기\n",
        "* 데이터 결측치 확인\n",
        "* 종속변수와 독립변수 정하기\n",
        "\n",
        "\n",
        "[4.모델학습: 수집하고 전처리한 데이터를 바탕으로 모델을 학습 시킨다.]   \n",
        "* 모델 학습에 필요한 모듈 추가\n",
        "* 훈련데이터와 테스트 데이트를 7:3 비율로 나눈다.\n",
        "* 모델 학습 시키기\n",
        "\n",
        "\n",
        "[5. 모델 성능 평가: 모델의 성능을 확인해 보고 모델을 완성한다.]   \n",
        "* 성능 평가를 위해 필요한 모듈 추가.\n",
        "* 모델 예측 결과 저장\n",
        "\n",
        "\n",
        "[6. 문제 해결 : 생성한 모델을 활용하여 문제를 해결한다.]\n",
        "* 생성한 선형 회기 모델의 성능이 좋지 않아 이번에는 랜덤 포레스트 회귀 모델을 생성\n",
        "* 사용량 예측하기\n",
        "\n"
      ],
      "metadata": {
        "id": "iQCuDywsE1CX"
      }
    },
    {
      "cell_type": "code",
      "source": [
        "from google.colab import files\n",
        "myfile=files.upload()"
      ],
      "metadata": {
        "id": "pkxXV0CbHhMU"
      },
      "execution_count": null,
      "outputs": []
    },
    {
      "cell_type": "code",
      "source": [
        "import io\n",
        "import pandas as pd\n",
        "data = pd.read_csv(io.BytesIO(myfile['bike.csv'])) #읽어온 파일을 data에 저장\n",
        "\n",
        "data.head()  # 처음 5개의 데이터를 확인"
      ],
      "metadata": {
        "id": "UbGDc9bAHyRw"
      },
      "execution_count": null,
      "outputs": []
    },
    {
      "cell_type": "code",
      "source": [
        "len(data)"
      ],
      "metadata": {
        "id": "Hz1GaFnSIF3U"
      },
      "execution_count": null,
      "outputs": []
    },
    {
      "cell_type": "code",
      "source": [
        "data.isna().sum() #결측치가 있는지 확인"
      ],
      "metadata": {
        "id": "caauUVVwIHit"
      },
      "execution_count": null,
      "outputs": []
    },
    {
      "cell_type": "code",
      "source": [
        "target = data['count'] #종속변수를 count로 지정\n",
        "data.drop(labels=['count'], axis=1, inplace=True) #기존 data에서 count 삭제\n",
        "\n",
        "data"
      ],
      "metadata": {
        "id": "XZ4aFIsPIMJh"
      },
      "execution_count": null,
      "outputs": []
    },
    {
      "cell_type": "code",
      "source": [
        "from sklearn.linear_model import LinearRegression #선형 회귀 모듈 추가\n",
        "from sklearn.model_selection import train_test_split #훈련데이터와 테스트데이터를 나누는 모듈 추가"
      ],
      "metadata": {
        "id": "aSAaXbv3IPlz"
      },
      "execution_count": null,
      "outputs": []
    },
    {
      "cell_type": "code",
      "source": [
        "#훈련데이터와 테스트데이터를 7:3 비율로 쪼개기\n",
        "train_X, test_X, train_y, test_y = train_test_split(data, target, test_size=0.3, random_state=0)"
      ],
      "metadata": {
        "id": "r1e2fQ_AIRrY"
      },
      "execution_count": null,
      "outputs": []
    },
    {
      "cell_type": "code",
      "source": [
        "train_X"
      ],
      "metadata": {
        "id": "7TTiDPKAIS4G"
      },
      "execution_count": null,
      "outputs": []
    },
    {
      "cell_type": "code",
      "source": [
        "my_lr = LinearRegression() # 선형회귀 모델 생성\n",
        "my_lr.fit(train_X, train_y) # 선형회귀 모델 훈련"
      ],
      "metadata": {
        "id": "iuMghSBwITed"
      },
      "execution_count": null,
      "outputs": []
    },
    {
      "cell_type": "code",
      "source": [
        "from sklearn.metrics import r2_score"
      ],
      "metadata": {
        "id": "ySR1yKrkIZHM"
      },
      "execution_count": null,
      "outputs": []
    },
    {
      "cell_type": "code",
      "source": [
        "lr_predict = my_lr.predict(test_X) #test데이터를 활용하여 예측\n",
        "lr_predict"
      ],
      "metadata": {
        "id": "xidDC4SZIbHn"
      },
      "execution_count": null,
      "outputs": []
    },
    {
      "cell_type": "code",
      "source": [
        "print('R2 score : {0:.3f}'.format(r2_score(test_y, lr_predict))) #R2 score로 성능 확인"
      ],
      "metadata": {
        "id": "r1EnD0RxIdsY"
      },
      "execution_count": null,
      "outputs": []
    },
    {
      "cell_type": "code",
      "source": [
        "from sklearn.ensemble import RandomForestRegressor #랜덤포레스트 회귀 모듈 추가"
      ],
      "metadata": {
        "id": "7LsigklfIf6J"
      },
      "execution_count": null,
      "outputs": []
    },
    {
      "cell_type": "code",
      "source": [
        "my_rf = RandomForestRegressor(random_state = 0) #랜덤포레스트 회귀 모델 생성\n",
        "my_rf.fit(train_X, train_y) #랜덤포레스트 회귀 모델 훈련"
      ],
      "metadata": {
        "id": "b3BQKkoIIhex"
      },
      "execution_count": null,
      "outputs": []
    },
    {
      "cell_type": "code",
      "source": [
        "rf_predict = my_rf.predict(test_X) #test데이터를 활용하여 예측\n",
        "rf_predict"
      ],
      "metadata": {
        "id": "DhHrEUL7IjsD"
      },
      "execution_count": null,
      "outputs": []
    },
    {
      "cell_type": "code",
      "source": [
        "print('R2 score : {0:.3f}'.format(r2_score(test_y, rf_predict))) #R2 score로 성능 확인"
      ],
      "metadata": {
        "id": "2m4ySxwyIl9H"
      },
      "execution_count": null,
      "outputs": []
    },
    {
      "cell_type": "code",
      "source": [
        "print(\"자전거 사용량 확인을 위해 정보를 입력해주세요.\") #예측을 위한 데이터 입력\n",
        "\n",
        "month = int(input(\"month : \"))\n",
        "time = int(input(\"time : \"))\n",
        "season = int(input(\"season : \"))\n",
        "holiday = int(input(\"holiday : \"))\n",
        "workingday = int(input(\"workingday : \"))\n",
        "weather = int(input(\"weather : \"))\n",
        "temp = float(input(\"temp : \"))\n",
        "atemp = float(input(\"atemp : \"))\n",
        "humidity = int(input(\"humidity : \"))\n",
        "windspeed = float(input(\"windspeed : \"))"
      ],
      "metadata": {
        "id": "lnX_1pt-In9p"
      },
      "execution_count": null,
      "outputs": []
    },
    {
      "cell_type": "code",
      "source": [
        "bike_predict = my_rf.predict([[month, time, season, holiday , workingday, weather, temp, atemp, humidity, windspeed]]) #입력받은 데이터로 예측\n",
        "bike_predict\n"
      ],
      "metadata": {
        "id": "giWicVlvI3G9"
      },
      "execution_count": null,
      "outputs": []
    },
    {
      "cell_type": "code",
      "source": [
        "#bike_predict = my_rf.fit(train_X.values,train_y)\n",
        "#bike_predict"
      ],
      "metadata": {
        "id": "nBpm4_INdOAL"
      },
      "execution_count": null,
      "outputs": []
    },
    {
      "cell_type": "code",
      "source": [
        "print(\"예상 자전거 사용량은 %d대 입니다.\" %bike_predict) #예측 결과 출력"
      ],
      "metadata": {
        "id": "4hnHvu0jI5Dd"
      },
      "execution_count": null,
      "outputs": []
    }
  ]
}